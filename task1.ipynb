{
 "cells": [
  {
   "cell_type": "code",
   "execution_count": 1,
   "metadata": {},
   "outputs": [],
   "source": [
    "%matplotlib inline\n",
    "\n",
    "import os\n",
    "from pyspark import SparkContext, SparkConf\n",
    "import json\n",
    "# SparkContext.setSystemProperty('spark.executor.memory', '16g')\n",
    "# os.environ['PYSPARK_PYTHON'] = '/nas/home/ngarg/anaconda3/bin/python'\n",
    "# os.environ['PYSPARK_PYTHON_DRIVER'] = '/nas/home/ngarg/anaconda3/bin/python'"
   ]
  },
  {
   "cell_type": "code",
   "execution_count": 7,
   "metadata": {},
   "outputs": [],
   "source": [
    "config = SparkConf().setAll([('spark.executor.memory', '8g'), ('spark.executor.cores', '3'), ('spark.cores.max', '3'), ('spark.driver.memory','8g')])\n",
    "sc = SparkContext(conf=config)"
   ]
  },
  {
   "cell_type": "code",
   "execution_count": 8,
   "metadata": {},
   "outputs": [
    {
     "data": {
      "text/plain": [
       "[('spark.executor.id', 'driver'),\n",
       " ('spark.app.name', 'pyspark-shell'),\n",
       " ('spark.cores.max', '3'),\n",
       " ('spark.rdd.compress', 'True'),\n",
       " ('spark.driver.memory', '8g'),\n",
       " ('spark.serializer.objectStreamReset', '100'),\n",
       " ('spark.master', 'local[*]'),\n",
       " ('spark.executor.memory', '8g'),\n",
       " ('spark.driver.port', '39017'),\n",
       " ('spark.executor.cores', '3'),\n",
       " ('spark.submit.deployMode', 'client'),\n",
       " ('spark.ui.showConsoleProgress', 'true'),\n",
       " ('spark.driver.host', 'ckg03'),\n",
       " ('spark.app.id', 'local-1580721986125')]"
      ]
     },
     "execution_count": 8,
     "metadata": {},
     "output_type": "execute_result"
    }
   ],
   "source": [
    "sc.getConf().getAll()"
   ]
  },
  {
   "cell_type": "code",
   "execution_count": 2,
   "metadata": {},
   "outputs": [],
   "source": [
    "appName = 'assignment1'\n",
    "master = 'local[*]'\n",
    "conf = SparkConf().setAppName(appName).setMaster(master)\n",
    "sc = SparkContext(conf=conf)"
   ]
  },
  {
   "cell_type": "code",
   "execution_count": 9,
   "metadata": {},
   "outputs": [],
   "source": [
    "BUSINESS_JSON_PATH = './data/business.json'\n",
    "REVIEW_JSON_PATH = './data/review.json'"
   ]
  },
  {
   "cell_type": "code",
   "execution_count": 10,
   "metadata": {},
   "outputs": [],
   "source": [
    "jsonRDD = sc.textFile(REVIEW_JSON_PATH)"
   ]
  },
  {
   "cell_type": "code",
   "execution_count": 11,
   "metadata": {},
   "outputs": [
    {
     "data": {
      "text/plain": [
       "160"
      ]
     },
     "execution_count": 11,
     "metadata": {},
     "output_type": "execute_result"
    }
   ],
   "source": [
    "jsonRDD.getNumPartitions()"
   ]
  },
  {
   "cell_type": "code",
   "execution_count": 5,
   "metadata": {},
   "outputs": [
    {
     "data": {
      "text/plain": [
       "[(1, 6685900)]"
      ]
     },
     "execution_count": 5,
     "metadata": {},
     "output_type": "execute_result"
    }
   ],
   "source": [
    "# Task 1 A\n",
    "jsonRDD.map(lambda line: json.loads(line)).map(lambda item: (1,1)).reduceByKey(lambda a, b: a+b).collect()"
   ]
  },
  {
   "cell_type": "code",
   "execution_count": 6,
   "metadata": {},
   "outputs": [
    {
     "data": {
      "text/plain": [
       "[(1, 1177662)]"
      ]
     },
     "execution_count": 6,
     "metadata": {},
     "output_type": "execute_result"
    }
   ],
   "source": [
    "# Task 1 B\n",
    "def function(line):\n",
    "    j = json.loads(line)\n",
    "    if(j[\"date\"].partition('-')[0].strip() == \"2018\"):\n",
    "        return True\n",
    "    \n",
    "    return False\n",
    "    \n",
    "jsonRDD.filter(function).map(lambda line: (1, 1)).reduceByKey(lambda a,b: a+b).collect()"
   ]
  },
  {
   "cell_type": "code",
   "execution_count": 7,
   "metadata": {},
   "outputs": [
    {
     "data": {
      "text/plain": [
       "1177662"
      ]
     },
     "execution_count": 7,
     "metadata": {},
     "output_type": "execute_result"
    }
   ],
   "source": [
    "jsonRDD.filter(function).count()"
   ]
  },
  {
   "cell_type": "code",
   "execution_count": null,
   "metadata": {},
   "outputs": [],
   "source": [
    "def function(partition):\n",
    "    temp = set()\n",
    "    for line in partition:\n",
    "        j = json.loads(line)\n",
    "        temp.add(j['user_id'])\n",
    "    return list(temp)\n",
    "\n",
    "jsonRDD.mapPartitions(function).distinct().count()"
   ]
  },
  {
   "cell_type": "code",
   "execution_count": 13,
   "metadata": {},
   "outputs": [
    {
     "data": {
      "text/plain": [
       "1637138"
      ]
     },
     "execution_count": 13,
     "metadata": {},
     "output_type": "execute_result"
    }
   ],
   "source": [
    "def function(line):\n",
    "    j = json.loads(line)\n",
    "    return j.get('user_id')\n",
    "\n",
    "jsonRDD.map(function).distinct().count()"
   ]
  },
  {
   "cell_type": "code",
   "execution_count": 12,
   "metadata": {},
   "outputs": [
    {
     "data": {
      "text/plain": [
       "1637138"
      ]
     },
     "execution_count": 12,
     "metadata": {},
     "output_type": "execute_result"
    }
   ],
   "source": [
    "jsonRDD.map(json.loads).map(lambda x: x['user_id']).distinct().count()"
   ]
  },
  {
   "cell_type": "code",
   "execution_count": 13,
   "metadata": {},
   "outputs": [
    {
     "data": {
      "text/plain": [
       "[('CxDOIDnH8gp9KXzpBHJYXw', 4129),\n",
       " ('bLbSNkLggFnqwNNzzq-Ijw', 2354),\n",
       " ('PKEzKWv_FktMm2mGPjwd0Q', 1822),\n",
       " ('ELcQDlf69kb-ihJfxZyL0A', 1764),\n",
       " ('DK57YibC5ShBmqQl97CKog', 1727),\n",
       " ('U4INQZOPSUaj8hMjLlZ3KA', 1559),\n",
       " ('QJI9OSEn6ujRCtrX06vs1w', 1496),\n",
       " ('d_TBs6J3twMy9GChqUEXkg', 1360),\n",
       " ('hWDybu_KvYLSdEFzGrniTw', 1355),\n",
       " ('cMEtAiW60I5wE_vLfTxoJQ', 1255)]"
      ]
     },
     "execution_count": 13,
     "metadata": {},
     "output_type": "execute_result"
    }
   ],
   "source": [
    "jsonRDD.map(json.loads).map(lambda x: (x['user_id'], 1)).reduceByKey(lambda a, b: a+b).sortBy(lambda x: x[1], ascending=False).take(10)"
   ]
  },
  {
   "cell_type": "code",
   "execution_count": 12,
   "metadata": {},
   "outputs": [
    {
     "data": {
      "text/plain": [
       "[('4JNXUYY8wbaaDmk3BPzlWw', 8570),\n",
       " ('RESDUcs7fIiihp38-d6_6g', 8568),\n",
       " ('K7lWdNUhCbcnEvI0NhGewg', 6887),\n",
       " ('f4x1YBxkLrZg652xt2KR5g', 5847),\n",
       " ('cYwJA2A6I12KNkm2rtXd5g', 5575),\n",
       " ('DkYS3arLOhA8si5uUEmHOw', 5206),\n",
       " ('2weQS-RnoOBhb1KsHKyoSQ', 4534),\n",
       " ('5LNZ67Yw9RD6nf4_UhXOjw', 4522),\n",
       " ('iCQpiavjjPzJ5_3gPD5Ebg', 4351),\n",
       " ('SMPbvZLSMMb7KU76YNYMGg', 4350)]"
      ]
     },
     "execution_count": 12,
     "metadata": {},
     "output_type": "execute_result"
    }
   ],
   "source": [
    "jsonRDD.map(json.loads).map(lambda x: (x['business_id'], 1)).reduceByKey(lambda a, b: a+b).sortBy(lambda x: x[1], ascending=False).take(10)"
   ]
  },
  {
   "cell_type": "code",
   "execution_count": null,
   "metadata": {},
   "outputs": [],
   "source": []
  }
 ],
 "metadata": {
  "kernelspec": {
   "display_name": "Python 3",
   "language": "python",
   "name": "python3"
  },
  "language_info": {
   "codemirror_mode": {
    "name": "ipython",
    "version": 3
   },
   "file_extension": ".py",
   "mimetype": "text/x-python",
   "name": "python",
   "nbconvert_exporter": "python",
   "pygments_lexer": "ipython3",
   "version": "3.7.4"
  }
 },
 "nbformat": 4,
 "nbformat_minor": 4
}
